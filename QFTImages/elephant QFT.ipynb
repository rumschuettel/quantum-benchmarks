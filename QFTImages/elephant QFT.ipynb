{
 "cells": [
  {
   "cell_type": "code",
   "execution_count": 1,
   "metadata": {},
   "outputs": [],
   "source": [
    "import qiskit\n",
    "import numpy as np\n",
    "\n",
    "import json, glob, math"
   ]
  },
  {
   "cell_type": "code",
   "execution_count": 2,
   "metadata": {},
   "outputs": [
    {
     "data": {
      "text/plain": [
       "['classicalFT.py',\n",
       " 'CPixel_demo.py',\n",
       " 'CVector_demo.py',\n",
       " 'elephant QFT-Copy1.ipynb',\n",
       " 'elephant QFT.ipynb',\n",
       " 'LICENSE.md',\n",
       " 'output',\n",
       " 'plotTools.py',\n",
       " 'pngTools.py',\n",
       " 'presentation source',\n",
       " 'QHOMER_IQFT.ipynb',\n",
       " 'QHOMER_Optimizer_Function_FIXED-Copy1.ipynb',\n",
       " 'QHOMER_Optimizer_Function_FIXED-Copy2.ipynb',\n",
       " 'QHOMER_Optimizer_Function_FIXED.ipynb',\n",
       " 'README.md',\n",
       " 'Resources',\n",
       " 'SVG_demo.py',\n",
       " 'VectorQraphics.py',\n",
       " 'vqe_analysis',\n",
       " '__pycache__']"
      ]
     },
     "execution_count": 2,
     "metadata": {},
     "output_type": "execute_result"
    }
   ],
   "source": [
    "glob.glob(\"*\")"
   ]
  },
  {
   "cell_type": "code",
   "execution_count": 3,
   "metadata": {},
   "outputs": [],
   "source": [
    "def qubits_necessary(n):\n",
    "    \"\"\"log2 of n\"\"\"\n",
    "    l2 = math.log2(n)\n",
    "    assert l2 % 1 == 0, \"not an integer power of 2\"\n",
    "    return int(l2)\n",
    "\n",
    "def normalized(arr):\n",
    "    \"\"\"l2-normalization\"\"\"\n",
    "    return arr / np.linalg.norm(arr, 2)"
   ]
  },
  {
   "cell_type": "markdown",
   "metadata": {},
   "source": [
    "## Data Loading"
   ]
  },
  {
   "cell_type": "code",
   "execution_count": 81,
   "metadata": {},
   "outputs": [],
   "source": [
    "with open(\"./Resources/homer.9.json\") as f:\n",
    "    data = json.load(f)[:-1]\n",
    "    \n",
    "    nextpowerof2 = 2**math.ceil(math.log2(len(data)))\n",
    "    data = [*data, *((nextpowerof2-len(data))*[[0.,0.]])]\n",
    "    \n",
    "    data = normalized(np.array([complex(a, b) for a, b in data]))\n",
    "    \n",
    "    #data = np.round(data, 2)"
   ]
  },
  {
   "cell_type": "code",
   "execution_count": 82,
   "metadata": {},
   "outputs": [
    {
     "data": {
      "text/plain": [
       "array([0.03467397+0.05865302j, 0.04090114+0.0565255j ,\n",
       "       0.04740511+0.05784197j, 0.05168185+0.06225712j,\n",
       "       0.05437845+0.06788862j, 0.05404177+0.07446052j,\n",
       "       0.05039188+0.07947104j, 0.04568359+0.0820019j ,\n",
       "       0.03918417+0.08250662j, 0.03327113+0.07970575j,\n",
       "       0.02981918+0.07456761j, 0.02854272+0.06812874j,\n",
       "       0.03089154+0.06198996j, 0.07224398+0.06547671j,\n",
       "       0.06822083+0.06341143j, 0.06317904+0.06279263j,\n",
       "       0.05829662+0.06376351j, 0.0547058 +0.06653934j,\n",
       "       0.05324415+0.07096146j, 0.05426601+0.07609313j,\n",
       "       0.05755073+0.08034511j, 0.06233634+0.08218638j,\n",
       "       0.06748733+0.08097405j, 0.07176754+0.0772901j ,\n",
       "       0.07414962+0.07254113j, 0.07407236+0.06814922j,\n",
       "       0.06217906+0.02698909j, 0.04672462+0.02912393j,\n",
       "       0.0482156 +0.02920148j, 0.06303357+0.02731842j,\n",
       "       0.0764541 +0.03181481j, 0.07344411+0.04569928j,\n",
       "       0.06367207+0.05163087j, 0.04841738+0.05033987j,\n",
       "       0.03564843+0.04390106j, 0.03102647+0.03061775j,\n",
       "       0.0370233 +0.0174027j , 0.05159257+0.01444214j,\n",
       "       0.06416136+0.02147033j, 0.06407644+0.06732341j,\n",
       "       0.06362932+0.06775382j, 0.0639937 +0.0682429j ,\n",
       "       0.06475629+0.06808241j, 0.06435112+0.06759472j,\n",
       "       0.06383429+0.06824735j, 0.06432607+0.06868124j,\n",
       "       0.06437812+0.06783725j, 0.06367103+0.06813778j,\n",
       "       0.06364397+0.06898387j, 0.06438613+0.06909463j,\n",
       "       0.06479018+0.068444j  , 0.06456653+0.06762921j,\n",
       "       0.03650921+0.06898944j, 0.03626837+0.06982909j,\n",
       "       0.03708581+0.06997147j, 0.03718238+0.06909333j,\n",
       "       0.03661401+0.06848145j, 0.03606581+0.06909333j,\n",
       "       0.0362358 +0.06916052j, 0.03698506+0.06893502j,\n",
       "       0.03644822+0.0683427j , 0.03619371+0.06921722j,\n",
       "       0.03642156+0.06984412j, 0.03720914+0.06956063j,\n",
       "       0.03716065+0.06873832j, 0.07120528+0.06147204j,\n",
       "       0.05935205+0.05101626j, 0.03955869+0.04826673j,\n",
       "       0.02897939+0.03212801j, 0.03779572+0.01523285j,\n",
       "       0.0559185 +0.01078893j, 0.05608742+0.01377488j,\n",
       "       0.03863371+0.01558383j, 0.02944593+0.03189164j,\n",
       "       0.03933415+0.04819357j, 0.05868201+0.05142337j,\n",
       "       0.07173133+0.06039377j, 0.01249635+0.01290536j,\n",
       "       0.01674582+0.04067822j, 0.01620295+0.06252054j,\n",
       "       0.00965289+0.09378414j, 0.03038967+0.11386195j,\n",
       "       0.05942873+0.10691382j, 0.0705968 +0.0832148j ,\n",
       "       0.05910316+0.10714314j, 0.03060037+0.11393908j,\n",
       "       0.00970944+0.09447729j, 0.01530583+0.06404176j,\n",
       "       0.0155694 +0.04142575j, 0.01306456+0.0148281j ,\n",
       "       0.01592083+0.10515439j, 0.0167399 +0.11205976j,\n",
       "       0.01993727+0.11801686j, 0.0258898 +0.12128276j,\n",
       "       0.03298901+0.1214085j , 0.03955125+0.11893803j,\n",
       "       0.04062783+0.11790345j, 0.03433265+0.12117455j,\n",
       "       0.02720058+0.12152101j, 0.02095069+0.11893484j,\n",
       "       0.01700842+0.11343892j, 0.01597947+0.10659766j,\n",
       "       0.01630658+0.10028353j, 0.01222805+0.094217j  ,\n",
       "       0.01111784+0.09902126j, 0.0105686 +0.10558657j,\n",
       "       0.01229356+0.11090102j, 0.01584075+0.11526792j,\n",
       "       0.02185602+0.11616198j, 0.02685561+0.11472029j,\n",
       "       0.02443093+0.11556275j, 0.01795804+0.11616977j,\n",
       "       0.01348874+0.11284567j, 0.0110163 +0.1078476j ,\n",
       "       0.01067387+0.10178622j, 0.0119167 +0.09546512j,\n",
       "       0.02178538+0.06040066j, 0.01829995+0.06826059j,\n",
       "       0.01715654+0.06060514j, 0.01659527+0.05449177j,\n",
       "       0.01271893+0.06302281j, 0.0120388 +0.05945091j,\n",
       "       0.01138658+0.05369884j, 0.01203757+0.063108j  ,\n",
       "       0.01461872+0.05903834j, 0.01680704+0.05538009j,\n",
       "       0.01719432+0.06509946j, 0.01982308+0.06630428j,\n",
       "       0.02286625+0.05729887j, 0.        +0.j        ,\n",
       "       0.        +0.j        , 0.        +0.j        ,\n",
       "       0.        +0.j        , 0.        +0.j        ,\n",
       "       0.        +0.j        , 0.        +0.j        ,\n",
       "       0.        +0.j        , 0.        +0.j        ,\n",
       "       0.        +0.j        , 0.        +0.j        ,\n",
       "       0.        +0.j        , 0.        +0.j        ,\n",
       "       0.        +0.j        , 0.        +0.j        ,\n",
       "       0.        +0.j        , 0.        +0.j        ,\n",
       "       0.        +0.j        , 0.        +0.j        ,\n",
       "       0.        +0.j        , 0.        +0.j        ,\n",
       "       0.        +0.j        , 0.        +0.j        ,\n",
       "       0.        +0.j        , 0.        +0.j        ,\n",
       "       0.        +0.j        , 0.        +0.j        ,\n",
       "       0.        +0.j        , 0.        +0.j        ,\n",
       "       0.        +0.j        , 0.        +0.j        ,\n",
       "       0.        +0.j        , 0.        +0.j        ,\n",
       "       0.        +0.j        , 0.        +0.j        ,\n",
       "       0.        +0.j        , 0.        +0.j        ,\n",
       "       0.        +0.j        , 0.        +0.j        ,\n",
       "       0.        +0.j        , 0.        +0.j        ,\n",
       "       0.        +0.j        , 0.        +0.j        ,\n",
       "       0.        +0.j        , 0.        +0.j        ,\n",
       "       0.        +0.j        , 0.        +0.j        ,\n",
       "       0.        +0.j        , 0.        +0.j        ,\n",
       "       0.        +0.j        , 0.        +0.j        ,\n",
       "       0.        +0.j        , 0.        +0.j        ,\n",
       "       0.        +0.j        , 0.        +0.j        ,\n",
       "       0.        +0.j        , 0.        +0.j        ,\n",
       "       0.        +0.j        , 0.        +0.j        ,\n",
       "       0.        +0.j        , 0.        +0.j        ,\n",
       "       0.        +0.j        , 0.        +0.j        ,\n",
       "       0.        +0.j        , 0.        +0.j        ,\n",
       "       0.        +0.j        , 0.        +0.j        ,\n",
       "       0.        +0.j        , 0.        +0.j        ,\n",
       "       0.        +0.j        , 0.        +0.j        ,\n",
       "       0.        +0.j        , 0.        +0.j        ,\n",
       "       0.        +0.j        , 0.        +0.j        ,\n",
       "       0.        +0.j        , 0.        +0.j        ,\n",
       "       0.        +0.j        , 0.        +0.j        ,\n",
       "       0.        +0.j        , 0.        +0.j        ,\n",
       "       0.        +0.j        , 0.        +0.j        ,\n",
       "       0.        +0.j        , 0.        +0.j        ,\n",
       "       0.        +0.j        , 0.        +0.j        ,\n",
       "       0.        +0.j        , 0.        +0.j        ,\n",
       "       0.        +0.j        , 0.        +0.j        ,\n",
       "       0.        +0.j        , 0.        +0.j        ,\n",
       "       0.        +0.j        , 0.        +0.j        ,\n",
       "       0.        +0.j        , 0.        +0.j        ,\n",
       "       0.        +0.j        , 0.        +0.j        ,\n",
       "       0.        +0.j        , 0.        +0.j        ,\n",
       "       0.        +0.j        , 0.        +0.j        ,\n",
       "       0.        +0.j        , 0.        +0.j        ,\n",
       "       0.        +0.j        , 0.        +0.j        ,\n",
       "       0.        +0.j        , 0.        +0.j        ,\n",
       "       0.        +0.j        , 0.        +0.j        ,\n",
       "       0.        +0.j        , 0.        +0.j        ,\n",
       "       0.        +0.j        , 0.        +0.j        ,\n",
       "       0.        +0.j        , 0.        +0.j        ,\n",
       "       0.        +0.j        , 0.        +0.j        ,\n",
       "       0.        +0.j        , 0.        +0.j        ,\n",
       "       0.        +0.j        , 0.        +0.j        ,\n",
       "       0.        +0.j        , 0.        +0.j        ,\n",
       "       0.        +0.j        , 0.        +0.j        ])"
      ]
     },
     "execution_count": 82,
     "metadata": {},
     "output_type": "execute_result"
    }
   ],
   "source": [
    "data"
   ]
  },
  {
   "cell_type": "markdown",
   "metadata": {},
   "source": [
    "## Classical FT"
   ]
  },
  {
   "cell_type": "code",
   "execution_count": 83,
   "metadata": {},
   "outputs": [],
   "source": [
    "data_ft = normalized(np.fft.fft(data))"
   ]
  },
  {
   "cell_type": "code",
   "execution_count": 84,
   "metadata": {},
   "outputs": [
    {
     "data": {
      "text/plain": [
       "array([ 3.16710018e-01+5.70006908e-01j,  4.34266978e-01-2.76626863e-01j,\n",
       "       -1.05747338e-01-4.14192825e-02j,  1.59648553e-01-1.39158311e-02j,\n",
       "       -4.03590223e-02-6.43488996e-02j,  5.24274240e-02+5.15928099e-02j,\n",
       "        7.11777924e-02-1.68156134e-02j,  5.32101743e-02-5.61010204e-02j,\n",
       "       -1.51824870e-02-3.73246967e-02j, -7.72175293e-05+5.78135165e-03j,\n",
       "        2.56510746e-02+1.56614548e-02j,  2.99078025e-02-2.02732603e-02j,\n",
       "        8.51749788e-03+7.53513075e-03j,  3.95318458e-02-5.09285141e-03j,\n",
       "        2.93454811e-02-1.90479407e-02j,  1.42787778e-03-3.00525680e-02j,\n",
       "        1.58896226e-02+2.24931293e-02j,  4.12385057e-02-4.20952219e-02j,\n",
       "       -1.34785292e-02-7.38331742e-03j,  3.56765596e-02-2.03272337e-02j,\n",
       "       -1.32064434e-02-3.08578791e-02j,  2.76314716e-03-9.44571461e-03j,\n",
       "       -8.17883301e-03-1.87403471e-02j, -1.86359992e-02-6.45494741e-03j,\n",
       "       -7.75268463e-03+2.48811526e-02j,  3.04251250e-02+2.43019003e-03j,\n",
       "        6.67788413e-03-2.07368401e-02j, -4.76940794e-03-9.21093635e-03j,\n",
       "        6.10662932e-03-7.56242640e-03j, -2.08903503e-02-2.76267875e-02j,\n",
       "       -3.44441442e-02+2.88761452e-02j,  1.49699791e-02+2.58869680e-02j,\n",
       "        1.15549028e-02+8.93552091e-03j,  9.95207360e-03+6.49399294e-03j,\n",
       "        2.36837581e-02+1.01749226e-02j,  1.48405754e-02-2.58981476e-02j,\n",
       "       -9.25142565e-03+4.02989307e-03j,  1.34897155e-02-1.04513767e-02j,\n",
       "       -2.00298249e-02-6.56899963e-05j,  9.56851281e-03+2.31839432e-02j,\n",
       "        2.38048179e-02-1.34944018e-03j,  3.06796773e-03-1.54151927e-02j,\n",
       "        2.28807075e-03+8.53604370e-03j,  1.67808716e-02-1.53561723e-02j,\n",
       "       -1.51148532e-02-9.54885072e-03j, -1.69701834e-03+9.81218235e-03j,\n",
       "        7.95484536e-03+2.25510961e-03j,  1.63367710e-04-5.49779310e-03j,\n",
       "        2.20702112e-03+6.40708929e-03j,  3.26205432e-03-1.00979412e-02j,\n",
       "       -1.26773673e-02+8.79492338e-03j,  1.18261458e-02+1.13748315e-02j,\n",
       "        7.43389656e-03-5.56716179e-03j, -8.54784086e-03+6.96459103e-04j,\n",
       "        9.42699106e-03+2.03670060e-02j,  1.99139982e-02-1.15777464e-02j,\n",
       "       -8.34792595e-03-5.41649221e-03j,  1.15674863e-03+7.84001781e-03j,\n",
       "        1.05255101e-02+5.45828592e-03j,  5.88487229e-03-8.90687721e-03j,\n",
       "       -2.50689062e-03+5.81702205e-03j,  1.19569079e-02-2.19095252e-04j,\n",
       "        3.46760842e-03-5.54700368e-03j, -1.17132330e-03-6.78500343e-03j,\n",
       "       -5.99329138e-03+5.12703101e-03j,  5.98725338e-03+4.80622783e-03j,\n",
       "        4.68992014e-03-3.99807393e-04j,  1.04782876e-03-2.06958996e-03j,\n",
       "        3.07129882e-03+2.40383774e-03j,  5.40888171e-05-5.78152639e-03j,\n",
       "       -4.49013797e-03+6.27210470e-03j,  4.26411278e-03+2.19933082e-03j,\n",
       "       -3.28170841e-04+2.70552694e-03j, -3.03771817e-04+4.29394567e-03j,\n",
       "        7.13020832e-03+1.00738088e-02j,  8.62784095e-03-5.33186712e-03j,\n",
       "       -1.32752432e-03+3.76350559e-03j,  8.08576133e-03-9.17972340e-05j,\n",
       "        3.81192144e-04+5.54214753e-05j,  4.87674655e-03+5.07598014e-04j,\n",
       "        1.47877069e-03+9.77687354e-06j,  3.32398328e-03+1.66843229e-04j,\n",
       "        2.56530866e-03-1.28774806e-06j,  1.18099077e-03-3.38671619e-03j,\n",
       "       -4.82358579e-03+3.35724403e-03j,  6.65234567e-03+7.73871219e-03j,\n",
       "        7.10675639e-03-6.22331040e-03j, -5.92999127e-03-4.58975567e-04j,\n",
       "        6.05089705e-03+4.31961729e-03j, -1.69030260e-03-7.28807950e-03j,\n",
       "       -6.98871874e-03+5.94021773e-03j,  2.77596412e-03+8.42588332e-03j,\n",
       "        6.45615085e-03-4.61497241e-04j, -7.26703199e-03+1.99895004e-03j,\n",
       "        8.86776639e-03+1.36786102e-02j,  7.74369735e-03-6.81104782e-03j,\n",
       "       -1.65345644e-03+2.39405566e-03j,  2.19902362e-03+2.08609842e-03j,\n",
       "        5.10342940e-03+3.67665325e-03j,  1.63794768e-03-3.12874413e-03j,\n",
       "        1.72635590e-03+5.14698520e-03j,  4.19402622e-03-2.26162350e-03j,\n",
       "        1.08331134e-03+2.00929608e-03j,  1.71515717e-03-3.08540806e-03j,\n",
       "       -3.81409013e-03+3.82889072e-03j,  4.93689899e-03+5.79392559e-03j,\n",
       "        6.46522071e-03-2.62507452e-03j, -3.61677375e-03-2.76424032e-03j,\n",
       "        1.98394891e-03+4.63151653e-03j,  1.50096493e-04-3.78969470e-03j,\n",
       "       -4.66693749e-03+3.63963795e-03j,  4.18267877e-04+6.37332512e-03j,\n",
       "        4.80666756e-03+1.72133010e-03j, -4.95723505e-03+1.69306819e-03j,\n",
       "        6.27254571e-03+1.08450374e-02j,  5.25307123e-03-3.93499414e-03j,\n",
       "       -2.12656835e-04+3.20024045e-03j,  1.69945939e-03+1.31349871e-03j,\n",
       "        3.57060794e-03+4.11026161e-03j,  2.31999283e-03-1.28581646e-03j,\n",
       "        2.56111427e-03+2.84927329e-03j,  9.15008774e-04-2.20883796e-03j,\n",
       "        1.13909902e-03+4.08755389e-03j,  2.23380418e-03-3.52583248e-03j,\n",
       "       -5.58254004e-03+3.38086803e-03j,  4.34677778e-03+8.35013793e-03j,\n",
       "        8.43317342e-03-3.09112986e-03j, -5.01069865e-03-4.01826636e-03j,\n",
       "        8.26445776e-04+5.73046707e-03j,  1.30778552e-03-3.28282114e-03j,\n",
       "       -5.79398819e-03+1.26166618e-03j, -2.06371614e-03+8.40777475e-03j,\n",
       "        6.12939106e-03+1.96297367e-03j, -6.71399223e-03+1.03080079e-03j,\n",
       "        5.06448462e-03+1.24214589e-02j,  6.52697281e-03-2.58764956e-03j,\n",
       "       -5.71124802e-04+6.92583209e-04j, -1.21739037e-03+3.70853857e-03j,\n",
       "        6.34690984e-03+4.70542596e-03j,  4.81683669e-04-3.42605115e-03j,\n",
       "        5.81226288e-04+4.50036552e-03j,  1.58752912e-03-4.47780040e-04j,\n",
       "        1.45983586e-03+2.63863339e-03j, -2.13270474e-04-2.04082218e-03j,\n",
       "       -3.59833513e-03+4.76877508e-03j,  4.17706082e-03+7.06549444e-03j,\n",
       "        7.86208437e-03-3.11995465e-03j, -5.55910803e-03-4.00613547e-03j,\n",
       "        5.51150719e-05+5.14317588e-03j, -2.85098523e-04-1.93431010e-03j,\n",
       "       -4.52500381e-03+1.47640732e-03j, -3.80755788e-03+7.33744901e-03j,\n",
       "        4.97010804e-03+3.61075643e-03j, -5.86259109e-03+1.99081596e-03j,\n",
       "        5.28313700e-03+1.06041231e-02j,  3.35577423e-03-2.21995511e-03j,\n",
       "        7.24210004e-05+2.86499818e-03j, -1.46367484e-03+2.41895570e-03j,\n",
       "        4.33881303e-03+5.94641667e-03j,  1.29911929e-03-1.79259330e-03j,\n",
       "        1.10308369e-03+3.58859633e-03j,  1.88397353e-05-5.86398337e-04j,\n",
       "        1.50609404e-03+4.09898720e-03j,  2.97987097e-04-3.86451285e-03j,\n",
       "       -7.63887049e-03+5.39693487e-03j,  5.99785651e-03+1.05257625e-02j,\n",
       "        8.50476133e-03-5.57249358e-03j, -7.37040845e-03-3.82455010e-03j,\n",
       "       -1.37419599e-03+6.52538960e-03j,  2.75794464e-03-1.11484000e-03j,\n",
       "       -7.60175264e-03-3.05043325e-03j, -5.71947228e-03+1.18399934e-02j,\n",
       "        5.51090346e-03+7.75294626e-04j, -9.44517695e-03+4.83136799e-03j,\n",
       "        5.70528859e-03+1.09651375e-02j,  3.05680291e-03+6.53740017e-04j,\n",
       "        3.65718977e-05+2.67803204e-04j, -3.38198598e-03+8.50521435e-03j,\n",
       "        1.11515789e-02+1.58715300e-03j, -6.66053692e-03-3.84333382e-03j,\n",
       "        1.98376260e-03+7.79978202e-03j,  4.97150538e-04-7.09455118e-04j,\n",
       "        2.12135843e-04+1.04632320e-03j, -5.74175925e-03+2.17767915e-03j,\n",
       "        6.81334622e-04+8.09840896e-03j,  4.04090552e-03+5.76809861e-03j,\n",
       "        8.00933551e-03-4.64224838e-03j, -8.70788806e-03-3.07629280e-03j,\n",
       "        1.72123439e-03+4.12427992e-03j, -4.90296904e-03-3.69429534e-03j,\n",
       "       -7.05393704e-03+2.62189939e-03j, -6.32515322e-03+9.11878850e-03j,\n",
       "        2.34958150e-03+2.40244886e-03j, -1.15457615e-02+8.58838036e-03j,\n",
       "        1.05682442e-02+1.31461051e-02j,  9.01809968e-04-4.06446580e-03j,\n",
       "       -2.24496613e-03+4.31882738e-03j, -1.09680444e-03+7.07169027e-03j,\n",
       "        6.72979072e-03-2.01258375e-04j, -9.19708613e-03+1.39033063e-03j,\n",
       "        6.04111902e-03+7.78815005e-03j, -4.13208294e-03-3.07670782e-03j,\n",
       "       -6.82556579e-04+6.71166566e-03j, -2.50736638e-03+8.80191383e-04j,\n",
       "       -4.16876823e-03+6.43517639e-03j,  3.96650156e-03+1.44023313e-02j,\n",
       "        1.93589874e-02-9.71956223e-03j, -1.97912047e-02-1.56187460e-02j,\n",
       "       -9.06752295e-03+1.73433187e-02j,  9.29331782e-03+3.46541128e-04j,\n",
       "       -1.30737675e-02-1.57875617e-02j, -2.76344396e-02+2.27599826e-02j,\n",
       "        1.84417766e-02+1.87514155e-02j, -4.12583966e-03-8.65782190e-03j,\n",
       "       -9.83609095e-03+1.14268575e-02j,  4.71809312e-03+1.78559725e-02j,\n",
       "        1.47010991e-02-1.03985343e-02j, -2.49342369e-02-4.96396422e-04j,\n",
       "        7.07414044e-03+1.99940594e-02j, -1.11357031e-03-3.48878398e-03j,\n",
       "       -1.14103214e-03+6.65597726e-03j, -6.06035834e-03+3.69200672e-03j,\n",
       "        3.06809801e-03+9.89834175e-03j,  5.13805966e-04-9.25211991e-04j,\n",
       "       -7.04729451e-03+3.78416550e-03j,  6.98873212e-03+1.77430006e-02j,\n",
       "        2.05443390e-02-2.41576487e-02j, -3.68059284e-02-1.63217273e-02j,\n",
       "       -1.20502716e-02+1.98114013e-02j, -2.02296394e-03+4.74099839e-04j,\n",
       "       -2.41063331e-02-9.83553394e-03j, -3.28090650e-02+4.09479772e-02j,\n",
       "        2.80805991e-02+1.78007189e-02j, -2.05560249e-02-2.09380494e-03j,\n",
       "        4.84724537e-03+2.91294388e-02j,  1.20589625e-02+2.39800752e-03j,\n",
       "       -5.93211275e-03-1.23868117e-02j, -1.83857997e-02+2.82273627e-02j,\n",
       "        3.27763285e-02-1.21575319e-02j, -5.20166650e-02-1.10416960e-02j,\n",
       "        1.44801925e-02+3.86213061e-02j, -5.38897270e-03-3.12502624e-02j,\n",
       "       -4.23808794e-02+2.77852270e-03j, -3.87912404e-02+3.97022655e-02j,\n",
       "        1.70647279e-02+4.37903184e-02j,  1.30007698e-02+1.20337941e-03j,\n",
       "       -6.23223849e-03-1.10662600e-02j, -2.33550022e-02+1.53357213e-02j,\n",
       "        4.39813668e-03-1.37639812e-02j, -5.18293596e-02-1.23072970e-02j,\n",
       "       -6.87462712e-02-5.60392808e-03j, -7.71625411e-02+9.98036251e-02j,\n",
       "        1.95065747e-02-1.45518630e-02j, -1.88751620e-01+9.44365257e-02j,\n",
       "        5.88337340e-02+1.18894222e-01j, -2.66360953e-01+1.47799369e-01j])"
      ]
     },
     "execution_count": 84,
     "metadata": {},
     "output_type": "execute_result"
    }
   ],
   "source": [
    "data_ft"
   ]
  },
  {
   "cell_type": "markdown",
   "metadata": {},
   "source": [
    "## State Loading"
   ]
  },
  {
   "cell_type": "code",
   "execution_count": 85,
   "metadata": {},
   "outputs": [],
   "source": [
    "from qiskit import QuantumCircuit, QuantumRegister, ClassicalRegister, Aer, execute"
   ]
  },
  {
   "cell_type": "code",
   "execution_count": 86,
   "metadata": {},
   "outputs": [],
   "source": [
    "def to_statevector(self, config={}):\n",
    "    job = execute(\n",
    "        self,\n",
    "        Aer.get_backend(\"statevector_simulator\"),\n",
    "        **config\n",
    "    )\n",
    "    return job.result().get_statevector()\n",
    "\n",
    "QuantumCircuit.to_statevector = to_statevector"
   ]
  },
  {
   "cell_type": "code",
   "execution_count": 88,
   "metadata": {},
   "outputs": [],
   "source": [
    "def QHomer_Init(data_ft):\n",
    "    \"\"\"creates an initialization circuit creating a state with data_ft as coefficients\"\"\"\n",
    "    # number of qubits necessary\n",
    "    qubit_count = qubits_necessary(len(data_ft))\n",
    "    #print(f\"need {qubit_count} qubits\")\n",
    "\n",
    "    # quantum and classical registers\n",
    "    qregs = QuantumRegister(qubit_count)\n",
    "    #cregs = ClassicalRegister(qubit_count)\n",
    "\n",
    "    # array of complex amplitudes\n",
    "    desired_state = data_ft\n",
    "\n",
    "    # initialization circut\n",
    "    circuit = QuantumCircuit(qregs, name=\"data_loader_trivial\")\n",
    "    circuit.initialize(desired_state, range(qubit_count))\n",
    "    \n",
    "    return circuit"
   ]
  },
  {
   "cell_type": "markdown",
   "metadata": {},
   "source": [
    "## Inverse QFT"
   ]
  },
  {
   "cell_type": "code",
   "execution_count": 89,
   "metadata": {},
   "outputs": [],
   "source": [
    "def QHomer_IQFT(circuit):\n",
    "    from qiskit.aqua.components.iqfts.standard import Standard as StandardIQFT\n",
    "\n",
    "    IQFT = StandardIQFT(len(circuit.qubits))\n",
    "    iqft = IQFT.construct_circuit(mode=\"circuit\", qubits=circuit.qubits, circuit=circuit)\n",
    "\n",
    "    return iqft\n"
   ]
  },
  {
   "cell_type": "code",
   "execution_count": null,
   "metadata": {},
   "outputs": [],
   "source": []
  },
  {
   "cell_type": "markdown",
   "metadata": {},
   "source": [
    "## Simulate and Measure"
   ]
  },
  {
   "cell_type": "code",
   "execution_count": 90,
   "metadata": {},
   "outputs": [],
   "source": [
    "from qiskit.providers.aer import noise\n",
    "from qiskit import IBMQ, transpile\n",
    "from qiskit.ignis.verification.tomography import StateTomographyFitter, state_tomography_circuits"
   ]
  },
  {
   "cell_type": "code",
   "execution_count": 91,
   "metadata": {},
   "outputs": [],
   "source": [
    "from qiskit.providers.aer.extensions import snapshot_density_matrix\n"
   ]
  },
  {
   "cell_type": "code",
   "execution_count": 92,
   "metadata": {},
   "outputs": [
    {
     "name": "stderr",
     "output_type": "stream",
     "text": [
      "/home/johannes/miniconda3/envs/qiskit/lib/python3.7/site-packages/qiskit/providers/ibmq/ibmqfactory.py:181: UserWarning: Credentials are already in use. The existing account in the session will be replaced.\n",
      "  warnings.warn('Credentials are already in use. The existing '\n"
     ]
    },
    {
     "data": {
      "text/plain": [
       "[<IBMQSimulator('ibmq_qasm_simulator') from IBMQ(hub='ibm-q', group='open', project='main')>,\n",
       " <IBMQBackend('ibmqx4') from IBMQ(hub='ibm-q', group='open', project='main')>,\n",
       " <IBMQBackend('ibmqx2') from IBMQ(hub='ibm-q', group='open', project='main')>,\n",
       " <IBMQBackend('ibmq_16_melbourne') from IBMQ(hub='ibm-q', group='open', project='main')>,\n",
       " <IBMQBackend('ibmq_vigo') from IBMQ(hub='ibm-q', group='open', project='main')>,\n",
       " <IBMQBackend('ibmq_ourense') from IBMQ(hub='ibm-q', group='open', project='main')>]"
      ]
     },
     "execution_count": 92,
     "metadata": {},
     "output_type": "execute_result"
    }
   ],
   "source": [
    "# only execute to save account\n",
    "# IBMQ.save_account('APIKEY', overwrite=True)\n",
    "\n",
    "IBMQ.load_account()\n",
    "\n",
    "# check whether we have accounts\n",
    "assert len(IBMQ.providers()) > 0, \"no account loaded. Save one with the command above\"\n",
    "\n",
    "IBMQ_cloud = IBMQ.providers()[0]\n",
    "IBMQ_cloud.backends()"
   ]
  },
  {
   "cell_type": "code",
   "execution_count": 155,
   "metadata": {},
   "outputs": [],
   "source": [
    "def QHomer_Cheap_Mans_Tomography(data_ft, config={}, cheat=True, map_to_device=None):\n",
    "    simulator = Aer.get_backend(\"qasm_simulator\")\n",
    "    n_qubits = qubits_necessary(len(data_ft))\n",
    "    \n",
    "    circuit_init = QHomer_Init(data_ft)\n",
    "    circuit_init = transpile(circuit_init, basis_gates=['u1', 'u2', 'u3', 'cx'])\n",
    "    circuit_iqft = QHomer_IQFT(circuit_init)\n",
    "    \n",
    "    print(\"circuit has size\", circuit_iqft.size())\n",
    "    \n",
    "    if map_to_device is not None:\n",
    "        print(\"transpiling...\")\n",
    "        circuit_iqft = transpile(circuit_iqft, device, optimization_level=0)\n",
    "        print(\"transpiling DONE. New circuit size:\", circuit_iqft.size())\n",
    "    \n",
    "    if cheat:\n",
    "        return circuit_iqft.to_statevector()\n",
    "        \n",
    "        circuit_iqft.snapshot_density_matrix(\"final_state\")\n",
    "        opts = {\"method\": \"density_matrix\"}\n",
    "        job = execute(circuit_iqft, simulator, shots=1, backend_options=opts, **config)\n",
    "        \n",
    "        data = job.result().data(0)\n",
    "        snapshot = np.array(data[\"snapshots\"][\"density_matrix\"][\"final_state\"])\n",
    "        rho = (snapshot[:, :, :, 0] + 1.0j*snapshot[:, :, :, 1])[0]\n",
    "        \n",
    "        #return rho\n",
    "        \n",
    "        evals, evecs = np.linalg.eigh(rho)\n",
    "        largest_eval_idx = np.argmax(np.abs(evals))\n",
    "        #return normalized(evecs.T[largest_eval_idx])\n",
    "        return sum([\n",
    "            v[0] * v[1] for v in zip(evals, evecs.T)\n",
    "        ])\n",
    "    \n",
    "    # full tomography    \n",
    "    measured_qubits = circuit_iqft.qubits\n",
    "    tomography_circuits = state_tomography_circuits(circuit_iqft, measured_qubits)\n",
    "    \n",
    "    tomography_results = StateTomographyFitter(execute(\n",
    "            tomography_circuits,\n",
    "            Aer.get_backend('statevector_simulator'),\n",
    "            shots=1,\n",
    "            **config,\n",
    "        ).result(),\n",
    "        tomography_circuits\n",
    "    ).fit('auto')\n",
    "    \n",
    "    rho = np.array(tomography_results)\n",
    "    evals, evecs = np.linalg.eig(rho)\n",
    "    tomography_guess = evecs[np.argmax(np.abs(evals))]\n",
    "    return tomography_guess"
   ]
  },
  {
   "cell_type": "code",
   "execution_count": null,
   "metadata": {},
   "outputs": [],
   "source": []
  },
  {
   "cell_type": "code",
   "execution_count": 156,
   "metadata": {},
   "outputs": [],
   "source": [
    "# Choose a real device to simulate\n",
    "device = IBMQ_cloud.get_backend(\"ibmq_ourense\")\n",
    "properties = device.properties()\n",
    "\n",
    "# T1\n",
    "#for qubit in properties.qubits:\n",
    "#    qubit[0].value *= 1\n",
    "\n",
    "# lower gate noise\n",
    "#for gate in properties.gates:\n",
    "#    gate.parameters[0].value *= 1\n",
    "    \n",
    "# Generate an Aer noise model for device\n",
    "noise_model = noise.device.basic_device_noise_model(properties)\n",
    "\n",
    "config = {\n",
    "    \"noise_model\": noise_model,\n",
    "    \"basis_gates\": noise_model.basis_gates\n",
    "}"
   ]
  },
  {
   "cell_type": "code",
   "execution_count": 157,
   "metadata": {},
   "outputs": [
    {
     "name": "stdout",
     "output_type": "stream",
     "text": [
      "circuit has size 1657\n"
     ]
    }
   ],
   "source": [
    "phase_tomography_results = QHomer_Cheap_Mans_Tomography(\n",
    "    data_ft,\n",
    "    config=config,\n",
    "    cheat=True,\n",
    "    map_to_device=None\n",
    ")"
   ]
  },
  {
   "cell_type": "code",
   "execution_count": 158,
   "metadata": {},
   "outputs": [],
   "source": [
    "psi_exact = np.array(phase_tomography_results)\n",
    "#psi_noise = np.array(phase_tomography_results)"
   ]
  },
  {
   "cell_type": "code",
   "execution_count": 125,
   "metadata": {},
   "outputs": [
    {
     "data": {
      "text/plain": [
       "256"
      ]
     },
     "execution_count": 125,
     "metadata": {},
     "output_type": "execute_result"
    }
   ],
   "source": [
    "len(psi_noise)"
   ]
  },
  {
   "cell_type": "code",
   "execution_count": 167,
   "metadata": {},
   "outputs": [],
   "source": [
    "phase_tomography_results = .6*psi_exact + .4*psi_noise"
   ]
  },
  {
   "cell_type": "markdown",
   "metadata": {},
   "source": [
    "## Recreate Original"
   ]
  },
  {
   "cell_type": "code",
   "execution_count": 168,
   "metadata": {},
   "outputs": [],
   "source": [
    "from plotTools import plot"
   ]
  },
  {
   "cell_type": "code",
   "execution_count": 169,
   "metadata": {},
   "outputs": [],
   "source": [
    "xs, ys = np.real(phase_tomography_results), np.imag(phase_tomography_results)"
   ]
  },
  {
   "cell_type": "code",
   "execution_count": 170,
   "metadata": {},
   "outputs": [
    {
     "data": {
      "image/png": "[encoded data removed]",
      "text/plain": [
       "<Figure size 432x288 with 1 Axes>"
      ]
     },
     "metadata": {},
     "output_type": "display_data"
    }
   ],
   "source": [
    "plot(\"Homer\", xs, ys, linestyle=\"-\")"
   ]
  },
  {
   "cell_type": "code",
   "execution_count": null,
   "metadata": {},
   "outputs": [],
   "source": []
  },
  {
   "cell_type": "code",
   "execution_count": null,
   "metadata": {},
   "outputs": [],
   "source": []
  }
 ],
 "metadata": {
  "kernelspec": {
   "display_name": "Python [conda env:qiskit] *",
   "language": "python",
   "name": "conda-env-qiskit-py"
  },
  "language_info": {
   "codemirror_mode": {
    "name": "ipython",
    "version": 3
   },
   "file_extension": ".py",
   "mimetype": "text/x-python",
   "name": "python",
   "nbconvert_exporter": "python",
   "pygments_lexer": "ipython3",
   "version": "3.7.4"
  }
 },
 "nbformat": 4,
 "nbformat_minor": 2
}
